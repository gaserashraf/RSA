{
 "cells": [
  {
   "cell_type": "code",
   "execution_count": 2,
   "metadata": {},
   "outputs": [],
   "source": [
    "from funtions import Encrypt, writeCipherArrayInFile,InvertModulo #import all funtions\n",
    "import os\n",
    "import time\n",
    "import math\n",
    "import matplotlib.pyplot as plt"
   ]
  },
  {
   "cell_type": "code",
   "execution_count": 3,
   "metadata": {},
   "outputs": [],
   "source": [
    "#this function takes p,q,public key and encrpt all msgs in inputMessages.txt\n",
    "def encrptUsingN(p,q,pu):\n",
    "  # remove cipherText to override it\n",
    "  if os.path.exists(\"ciphertext.txt\"):\n",
    "    os.remove(\"ciphertext.txt\")\n",
    "\n",
    "  # calc n = p * q\n",
    "  n = p * q\n",
    "  msgs = []\n",
    "  with open('inputMessages.txt') as f:\n",
    "    msgs = f.readlines()\n",
    "  for msg in msgs:\n",
    "    msg=msg.rstrip('\\n') # for remove \\n at the end of string\n",
    "    ciphertext = Encrypt(msg, n, pu)\n",
    "    writeCipherArrayInFile(ciphertext,'ciphertext.txt')"
   ]
  },
  {
   "cell_type": "code",
   "execution_count": 4,
   "metadata": {},
   "outputs": [],
   "source": [
    "# req 1,2\n",
    "# try a single N from sharedData.txt and put all msgs you want to encrpt in inputMessages.txt\n",
    "def singleTestCase():\n",
    "  # read p,q, public key from the file\n",
    "  lines = []\n",
    "  with open('sharedData.txt') as f:\n",
    "      lines = f.readlines()\n",
    "  p = int(lines[0])\n",
    "  q = int(lines[1])\n",
    "  pu = int(lines[2])\n",
    "  encrptUsingN(p,q,pu)\n",
    "\n",
    "\n",
    "singleTestCase()"
   ]
  },
  {
   "cell_type": "code",
   "execution_count": 5,
   "metadata": {},
   "outputs": [
    {
     "name": "stdout",
     "output_type": "stream",
     "text": [
      "[0.5414218902587891, 0.003989696502685547, 0.0029921531677246094, 0.003991842269897461, 0.002991199493408203, 0.003987550735473633, 0.002992391586303711, 0.0029914379119873047]\n",
      "[8, 17, 32, 37, 51, 60, 83, 196]\n"
     ]
    },
    {
     "data": {
      "image/png": "[encoded data removed]",
      "text/plain": [
       "<Figure size 432x288 with 1 Axes>"
      ]
     },
     "metadata": {
      "needs_background": "light"
     },
     "output_type": "display_data"
    }
   ],
   "source": [
    "# req 3\n",
    "# this function encrpt using differnt size of n\n",
    "def encrptUsingDifferntNSize():\n",
    "    lines = []\n",
    "    with open('differentSizesN.txt') as f:\n",
    "        lines = f.readlines()\n",
    "    times=[]\n",
    "    sizeOfN=[]\n",
    "    for i in range(0,len(lines),3):\n",
    "            p = int(lines[i])\n",
    "            q = int(lines[i+1])\n",
    "            pu = int(lines[i+2])\n",
    "            start_time = time.time()\n",
    "            encrptUsingN(p,q,pu)\n",
    "            diff_time=(time.time() - start_time)\n",
    "            times.append(diff_time)\n",
    "            sizeOfN.append(int(math.log2(p*q)+1))\n",
    "    print(times)\n",
    "    print(sizeOfN)\n",
    "    \n",
    "    plt.plot(sizeOfN, times)\n",
    "    # naming the x axis\n",
    "    plt.xlabel('size in bits')\n",
    "    # naming the y axis\n",
    "    plt.ylabel('time to encrpt')\n",
    "\n",
    "    # giving a title to my graph\n",
    "    plt.title('Try to use different key lengths for RSA')\n",
    "\n",
    "    # function to show the plot\n",
    "    plt.show()\n",
    "\n",
    "    \n",
    "encrptUsingDifferntNSize()"
   ]
  },
  {
   "cell_type": "code",
   "execution_count": null,
   "metadata": {},
   "outputs": [],
   "source": []
  }
 ],
 "metadata": {
  "interpreter": {
   "hash": "9650cb4e16cdd4a8e8e2d128bf38d875813998db22a3c986335f89e0cb4d7bb2"
  },
  "kernelspec": {
   "display_name": "Python 3.8.3 64-bit",
   "language": "python",
   "name": "python3"
  },
  "language_info": {
   "codemirror_mode": {
    "name": "ipython",
    "version": 3
   },
   "file_extension": ".py",
   "mimetype": "text/x-python",
   "name": "python",
   "nbconvert_exporter": "python",
   "pygments_lexer": "ipython3",
   "version": "3.8.3"
  },
  "orig_nbformat": 4
 },
 "nbformat": 4,
 "nbformat_minor": 2
}
