{
 "cells": [
  {
   "cell_type": "code",
   "execution_count": 338,
   "metadata": {},
   "outputs": [],
   "source": [
    "from funtions import ConvertToStr,GCD,PowMod,InvertModulo,writeCipherArrayInFile,writeOutputArrayInFile,Decrypt,ConvertToInt #import all funtions\n",
    "import os\n",
    "import random"
   ]
  },
  {
   "cell_type": "code",
   "execution_count": 339,
   "metadata": {},
   "outputs": [],
   "source": [
    "def DecyptInCipertextCCA(cipherEve):\n",
    "    lines = []\n",
    "    with open('sharedData.txt') as f:\n",
    "        lines = f.readlines()\n",
    "    p = int(lines[0])\n",
    "    q = int(lines[1])\n",
    "    pu = int(lines[2])\n",
    "    ciphertext = int(cipherEve)\n",
    "    message =  Decrypt(ciphertext, p, q, pu) \n",
    "    return str(ConvertToInt(message))\n"
   ]
  },
  {
   "cell_type": "code",
   "execution_count": 340,
   "metadata": {},
   "outputs": [],
   "source": [
    "def cipherEveCCA(cipher,n,e):\n",
    "    # get random int r , GCD(r,n) = 1\n",
    "    r = 2\n",
    "    while(GCD(r,n)!=1):\n",
    "        r=r+1\n",
    "    cipherEve = (cipher * PowMod(r,e,n)) % n\n",
    "    return cipherEve,r\n",
    "    "
   ]
  },
  {
   "cell_type": "code",
   "execution_count": 341,
   "metadata": {},
   "outputs": [],
   "source": [
    "def getMsg(chiper,n,e):\n",
    "    cipherEve,r =cipherEveCCA(chiper,n,e)\n",
    "    Y=int(DecyptInCipertextCCA(cipherEve))\n",
    "    msg=(Y * InvertModulo(r,n)) %n\n",
    "    \n",
    "    return ConvertToStr(msg)"
   ]
  },
  {
   "cell_type": "code",
   "execution_count": 342,
   "metadata": {},
   "outputs": [],
   "source": [
    "def CCA():\n",
    "  if os.path.exists(\"outputMessagesCCA.txt\"):\n",
    "        os.remove(\"outputMessagesCCA.txt\")\n",
    "\n",
    "  lines = []\n",
    "  with open('sharedData.txt') as f:\n",
    "      lines = f.readlines()\n",
    "  n = int(lines[0]) * int(lines[1])\n",
    "  e = int(lines[2])\n",
    "\n",
    "    #read all cipher texts\n",
    "  chipers = []\n",
    "  with open('ciphertext.txt') as f:\n",
    "    chipers = f.readlines()\n",
    "\n",
    "    #itereate for each cipher text\n",
    "  for chiperLine in chipers:\n",
    "    chiperArr=chiperLine.split(\" \");\n",
    "    message=\"\"\n",
    "\n",
    "    #itereate for each block in one cipher text\n",
    "    for chiper in chiperArr:\n",
    "        chiper = chiper.rstrip('\\n')\n",
    "        if(not chiper):\n",
    "            continue\n",
    "        ciphertext = int(chiper)\n",
    "        message = message + getMsg(ciphertext,n,e) # concatante blocks to get the complete message\n",
    "    writeOutputArrayInFile([message],\"outputMessagesCCA.txt\")\n",
    "CCA()"
   ]
  }
 ],
 "metadata": {
  "interpreter": {
   "hash": "9650cb4e16cdd4a8e8e2d128bf38d875813998db22a3c986335f89e0cb4d7bb2"
  },
  "kernelspec": {
   "display_name": "Python 3.8.3 64-bit",
   "language": "python",
   "name": "python3"
  },
  "language_info": {
   "codemirror_mode": {
    "name": "ipython",
    "version": 3
   },
   "file_extension": ".py",
   "mimetype": "text/x-python",
   "name": "python",
   "nbconvert_exporter": "python",
   "pygments_lexer": "ipython3",
   "version": "3.8.3"
  },
  "orig_nbformat": 4
 },
 "nbformat": 4,
 "nbformat_minor": 2
}
