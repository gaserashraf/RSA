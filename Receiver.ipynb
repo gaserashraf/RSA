{
 "cells": [
  {
   "cell_type": "code",
   "execution_count": 2,
   "metadata": {},
   "outputs": [],
   "source": [
    "from funtions import writeOutputArrayInFile, Decrypt,ConvertToInt #import all funtions\n",
    "import os"
   ]
  },
  {
   "cell_type": "code",
   "execution_count": 3,
   "metadata": {},
   "outputs": [],
   "source": [
    "def DecyptInCipertext():\n",
    "    lines = []\n",
    "    with open('sharedData.txt') as f:\n",
    "        lines = f.readlines()\n",
    "    p = int(lines[0])\n",
    "    q = int(lines[1])\n",
    "    pu = int(lines[2])\n",
    "    # remove cipherText to override it\n",
    "    if os.path.exists(\"outputMessages.txt\"):\n",
    "        os.remove(\"outputMessages.txt\")\n",
    "\n",
    "    #read all cipher texts\n",
    "    chipers = []\n",
    "    with open('ciphertext.txt') as f:\n",
    "        chipers = f.readlines()\n",
    "\n",
    "    #itereate for each cipher text\n",
    "    for chiperLine in chipers:\n",
    "        chiperArr=chiperLine.split(\" \");\n",
    "        message=\"\"\n",
    "\n",
    "        #itereate for each block in one cipher text\n",
    "        for chiper in chiperArr:\n",
    "            chiper = chiper.rstrip('\\n')\n",
    "            if(not chiper):\n",
    "                continue\n",
    "            ciphertext = int(chiper)\n",
    "            message = message + Decrypt(ciphertext, p, q, pu) # concatante blocks to get the complete message\n",
    "        writeOutputArrayInFile(message,\"outputMessages.txt\")\n",
    "DecyptInCipertext()"
   ]
  }
 ],
 "metadata": {
  "interpreter": {
   "hash": "9650cb4e16cdd4a8e8e2d128bf38d875813998db22a3c986335f89e0cb4d7bb2"
  },
  "kernelspec": {
   "display_name": "Python 3.8.3 64-bit",
   "language": "python",
   "name": "python3"
  },
  "language_info": {
   "codemirror_mode": {
    "name": "ipython",
    "version": 3
   },
   "file_extension": ".py",
   "mimetype": "text/x-python",
   "name": "python",
   "nbconvert_exporter": "python",
   "pygments_lexer": "ipython3",
   "version": "3.8.3"
  },
  "orig_nbformat": 4
 },
 "nbformat": 4,
 "nbformat_minor": 2
}
