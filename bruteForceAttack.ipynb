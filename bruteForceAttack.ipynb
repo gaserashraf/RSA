{
 "cells": [
  {
   "cell_type": "code",
   "execution_count": 1,
   "metadata": {},
   "outputs": [],
   "source": [
    "from funtions import Encrypt, writeCipherArrayInFile,InvertModulo #import all funtions\n",
    "import os\n",
    "import time\n",
    "import math\n",
    "import matplotlib.pyplot as plt"
   ]
  },
  {
   "cell_type": "code",
   "execution_count": 2,
   "metadata": {},
   "outputs": [
    {
     "name": "stdout",
     "output_type": "stream",
     "text": [
      "p:  11 q:  17 pravite key:  7\n",
      "p:  103 q:  967 pravite key:  55345\n",
      "p:  43003 q:  78539 pravite key:  1021769999\n",
      "p:  193153 q:  481043 pravite key:  19541963849\n",
      "p:  21064753 q:  57897661 pravite key:  805446116538931\n",
      "[0.0, 0.0, 0.005982875823974609, 0.02094554901123047, 3.2775275707244873]\n",
      "[8, 17, 32, 37, 51]\n"
     ]
    },
    {
     "data": {
      "image/png": "[encoded data removed]",
      "text/plain": [
       "<Figure size 432x288 with 1 Axes>"
      ]
     },
     "metadata": {
      "needs_background": "light"
     },
     "output_type": "display_data"
    }
   ],
   "source": [
    "# req 4\n",
    "def bruteForceAttackForSingleN(n,pu):\n",
    "    p=0\n",
    "    q=0\n",
    "    mx = int(math.sqrt(n))\n",
    "    for i in range(2,mx+1):\n",
    "         if (n % i==0):\n",
    "                p=i\n",
    "                q=n//i\n",
    "                break\n",
    "    phi = (p - 1) * (q - 1)\n",
    "    # d * e == 1 modulo (p-1)(q-1)\n",
    "    d = InvertModulo(pu, phi) # private key\n",
    "    print(\"p: \",p,\"q: \",q,\"pravite key: \",d)\n",
    "                \n",
    "def bruteForceAttack():\n",
    "    lines = []\n",
    "    with open('differentSizesNForAttack.txt') as f:\n",
    "        lines = f.readlines()\n",
    "    times=[]\n",
    "    sizeOfN=[]\n",
    "    for i in range(0,len(lines),2):\n",
    "            n = int(lines[i])\n",
    "            pu = int(lines[i+1])\n",
    "            start_time = time.time()\n",
    "            bruteForceAttackForSingleN(n,pu)\n",
    "            diff_time=(time.time() - start_time)\n",
    "            times.append(diff_time)\n",
    "            sizeOfN.append(int(math.log2(n)+1))\n",
    "    print(times)\n",
    "    print(sizeOfN)\n",
    "    plt.plot(sizeOfN, times)\n",
    "    # naming the x axis\n",
    "    plt.xlabel('size in bits')\n",
    "    # naming the y axis\n",
    "    plt.ylabel('time to break key')\n",
    "\n",
    "    # giving a title to my graph\n",
    "    plt.title('brute force (mathematical attack)')\n",
    "\n",
    "    # function to show the plot\n",
    "    plt.show()\n",
    "bruteForceAttack()"
   ]
  }
 ],
 "metadata": {
  "interpreter": {
   "hash": "9650cb4e16cdd4a8e8e2d128bf38d875813998db22a3c986335f89e0cb4d7bb2"
  },
  "kernelspec": {
   "display_name": "Python 3.8.3 64-bit",
   "language": "python",
   "name": "python3"
  },
  "language_info": {
   "codemirror_mode": {
    "name": "ipython",
    "version": 3
   },
   "file_extension": ".py",
   "mimetype": "text/x-python",
   "name": "python",
   "nbconvert_exporter": "python",
   "pygments_lexer": "ipython3",
   "version": "3.8.3"
  },
  "orig_nbformat": 4
 },
 "nbformat": 4,
 "nbformat_minor": 2
}
